{
 "cells": [
  {
   "cell_type": "markdown",
   "id": "3a87a810",
   "metadata": {},
   "source": [
    "Setup"
   ]
  },
  {
   "cell_type": "code",
   "execution_count": null,
   "id": "3bdb987c",
   "metadata": {},
   "outputs": [],
   "source": [
    "import pandas as pd\n",
    "import pathlib"
   ]
  },
  {
   "cell_type": "markdown",
   "id": "9ec24b75",
   "metadata": {},
   "source": [
    "Database Consolidation"
   ]
  },
  {
   "cell_type": "code",
   "execution_count": null,
   "id": "eef05085",
   "metadata": {},
   "outputs": [],
   "source": [
    "meses ={'jan': 1, 'fev': 2, 'mar': 3, 'abr': 4, 'mai': 5, 'jun': 6, 'jul': 7, 'ago': 8, 'set': 9, 'out': 10, 'nov': 11, 'dez': 12}\n",
    "\n",
    "caminhos_bases = pathlib.Path('dataset')\n",
    "\n",
    "base_airbnb = pd.DataFrame()\n",
    "\n",
    "for arquivo in caminhos_bases.iterdir():\n",
    "    nome_mes = arquivo.name[:3]\n",
    "    mes = meses[nome_mes]\n",
    "    \n",
    "    ano = arquivo.name[-8:]\n",
    "    ano = int(ano.replace('.csv', ''))\n",
    "    \n",
    "    df = pd.read_csv(caminhos_bases / arquivo.name)\n",
    "    df['ano'] = ano\n",
    "    df['mes'] = mes\n",
    "    base_airbnb = base_airbnb.append(df)\n",
    "    \n",
    "display(base_airbnb)\n",
    "    "
   ]
  },
  {
   "cell_type": "markdown",
   "id": "27c75215",
   "metadata": {},
   "source": [
    "For a quick analysis, a file is generated with the first 1000 lines.\n",
    "Then we go on to choose the columns that we will keep in the dataframe."
   ]
  },
  {
   "cell_type": "code",
   "execution_count": null,
   "id": "cf60a96b",
   "metadata": {},
   "outputs": [],
   "source": [
    "base_airbnb.head(1000).to_csv('primeiros_registros.csv', sep=';')"
   ]
  },
  {
   "cell_type": "markdown",
   "id": "3c0a15a0",
   "metadata": {},
   "source": [
    "After the qualitative analysis, we select the columns that will be kept in the dataframe"
   ]
  },
  {
   "cell_type": "code",
   "execution_count": null,
   "id": "bf355fe4",
   "metadata": {},
   "outputs": [],
   "source": [
    "colums = ['host_response_time','host_response_rate','host_is_superhost','host_listings_count','latitude','longitude','property_type','room_type','accommodates','bathrooms','bedrooms','beds','bed_type','amenities','price','security_deposit','cleaning_fee','guests_included','extra_people','minimum_nights','maximum_nights','number_of_reviews','review_scores_rating','review_scores_accuracy','review_scores_cleanliness','review_scores_checkin','review_scores_communication','review_scores_location','review_scores_value','instant_bookable','is_business_travel_ready','cancellation_policy','ano','mes'\n",
    "]\n",
    "base_airbnb = base_airbnb.loc[:, colums]\n",
    "display(base_airbnb)"
   ]
  }
 ],
 "metadata": {
  "kernelspec": {
   "display_name": "Python 3 (ipykernel)",
   "language": "python",
   "name": "python3"
  },
  "language_info": {
   "codemirror_mode": {
    "name": "ipython",
    "version": 3
   },
   "file_extension": ".py",
   "mimetype": "text/x-python",
   "name": "python",
   "nbconvert_exporter": "python",
   "pygments_lexer": "ipython3",
   "version": "3.9.7"
  }
 },
 "nbformat": 4,
 "nbformat_minor": 5
}
